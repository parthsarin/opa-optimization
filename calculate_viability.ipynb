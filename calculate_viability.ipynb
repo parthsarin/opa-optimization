{
 "cells": [
  {
   "cell_type": "markdown",
   "metadata": {},
   "source": [
    "# Settings"
   ]
  },
  {
   "cell_type": "code",
   "execution_count": 1,
   "metadata": {},
   "outputs": [],
   "source": [
    "import pandas as pd\n",
    "import numpy as np\n",
    "import seaborn as sns\n",
    "from bisect import bisect\n",
    "import matplotlib.pyplot as plt\n",
    "\n",
    "%matplotlib inline"
   ]
  },
  {
   "cell_type": "code",
   "execution_count": 2,
   "metadata": {},
   "outputs": [],
   "source": [
    "##################\n",
    "# FULL OPA\n",
    "##################\n",
    "\n",
    "downpayment = 0.20     # percent of price\n",
    "interest = 0.055       # percent of price\n",
    "mortgage_duration = 30 # years\n",
    "rofr = 0.1             # percent reduction in sales price\n",
    "spillover = 0.1        # percent of sales that don't go through\n",
    "off_market = 0.1       # percent of sales off market\n",
    "dti = 0.36             # debt-to-income ratio that's required to get the mortgage approved\n",
    "ami = 149_600          # average median income\n",
    "sfh = 1                # include single family homes in OPA? 1 = yes, 0 = no"
   ]
  },
  {
   "cell_type": "markdown",
   "metadata": {},
   "source": [
    "# Read data"
   ]
  },
  {
   "cell_type": "code",
   "execution_count": 3,
   "metadata": {},
   "outputs": [],
   "source": [
    "df = pd.read_csv('final_results_1000.csv')"
   ]
  },
  {
   "cell_type": "code",
   "execution_count": 4,
   "metadata": {},
   "outputs": [],
   "source": [
    "df.columns = [c.lower().replace(' ', '_') for c in df.columns]\n",
    "\n",
    "n = len(df)\n",
    "sim_ids = set(df.simulation)\n",
    "num_sims = len(sim_ids)\n",
    "num_per_sim = n / num_sims"
   ]
  },
  {
   "cell_type": "markdown",
   "metadata": {},
   "source": [
    "# Computation"
   ]
  },
  {
   "cell_type": "code",
   "execution_count": 5,
   "metadata": {},
   "outputs": [],
   "source": [
    "def get_category_coarse(x):\n",
    "    idx = bisect([80, 160], x)\n",
    "    cats = ['Low Income', 'Middle Income', 'Upper Income']\n",
    "    return cats[idx]\n",
    "\n",
    "df['p_ami'] = df.income / ami * 100\n",
    "df['mortgage'] = (1 - downpayment) * ((1 + interest) ** mortgage_duration) * (1 - rofr) * df.price / mortgage_duration\n",
    "df['viable'] = (df.mortgage / df.income <= dti) \n",
    "\n",
    "# 0 = not eligible, 1 = still eligible\n",
    "df['eligible_spillover'] = 1 - (np.random.random(n) < spillover)\n",
    "df['eligible_market'] = 1 - (np.random.random(n) < off_market)\n",
    "df['eligible_sfh'] = np.ones(n) if sfh == 1 else (df.property_indicator != 10) * 1\n",
    "\n",
    "df['viable_eligible'] = df.eligible_spillover * df.eligible_market * df.eligible_sfh * df.viable\n",
    "df['income_category'] = df.p_ami.apply(get_category_coarse)\n"
   ]
  },
  {
   "cell_type": "markdown",
   "metadata": {},
   "source": [
    "# Results"
   ]
  },
  {
   "cell_type": "code",
   "execution_count": 6,
   "metadata": {},
   "outputs": [
    {
     "name": "stdout",
     "output_type": "stream",
     "text": [
      "viable & eligible: 8.56%\n",
      "95% confidence interval (viable & eligible): 6.46%, 10.65%\n"
     ]
    }
   ],
   "source": [
    "ve = df.groupby('simulation').mean().viable_eligible\n",
    "m, s = ve.mean(), ve.std()\n",
    "\n",
    "print(f'viable & eligible: {m:.2%}')\n",
    "print(f'95% confidence interval (viable & eligible): {m - 2*s:.2%}, {m + 2*s:.2%}')"
   ]
  }
 ],
 "metadata": {
  "interpreter": {
   "hash": "349b1552111b9b9904299f3c1a139e3d50a17b16502103370088b800dded7c6c"
  },
  "kernelspec": {
   "display_name": "Python 3.10.0 ('venv': venv)",
   "language": "python",
   "name": "python3"
  },
  "language_info": {
   "codemirror_mode": {
    "name": "ipython",
    "version": 3
   },
   "file_extension": ".py",
   "mimetype": "text/x-python",
   "name": "python",
   "nbconvert_exporter": "python",
   "pygments_lexer": "ipython3",
   "version": "3.10.0"
  },
  "orig_nbformat": 4
 },
 "nbformat": 4,
 "nbformat_minor": 2
}
