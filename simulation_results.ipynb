{
 "cells": [
  {
   "cell_type": "code",
   "execution_count": 1,
   "id": "3eb96795",
   "metadata": {
    "executionInfo": {
     "elapsed": 941,
     "status": "ok",
     "timestamp": 1653542267298,
     "user": {
      "displayName": "Parth Sarin",
      "userId": "17897782598758580544"
     },
     "user_tz": 420
    },
    "id": "3eb96795"
   },
   "outputs": [],
   "source": [
    "import pandas as pd\n",
    "import numpy as np\n",
    "import seaborn as sns\n",
    "from bisect import bisect\n",
    "import matplotlib.pyplot as plt\n",
    "from functools import cache\n",
    "\n",
    "sns.set_theme()\n",
    "%matplotlib inline"
   ]
  },
  {
   "cell_type": "code",
   "execution_count": null,
   "id": "f07a8593",
   "metadata": {
    "executionInfo": {
     "elapsed": 5,
     "status": "ok",
     "timestamp": 1653542267299,
     "user": {
      "displayName": "Parth Sarin",
      "userId": "17897782598758580544"
     },
     "user_tz": 420
    },
    "id": "f07a8593"
   },
   "outputs": [],
   "source": [
    "df = pd.read_csv('final_results_1000.csv')"
   ]
  },
  {
   "cell_type": "markdown",
   "id": "c7e0e3e4",
   "metadata": {
    "id": "c7e0e3e4"
   },
   "source": [
    "# Constants"
   ]
  },
  {
   "cell_type": "code",
   "execution_count": null,
   "id": "b7ab0ddd",
   "metadata": {
    "executionInfo": {
     "elapsed": 410,
     "status": "ok",
     "timestamp": 1653542269960,
     "user": {
      "displayName": "Parth Sarin",
      "userId": "17897782598758580544"
     },
     "user_tz": 420
    },
    "id": "b7ab0ddd"
   },
   "outputs": [],
   "source": [
    "downpayment = 0.20     # percent of price\n",
    "interest = 0.05        # percent of price\n",
    "mortgage_duration = 30 # years\n",
    "rofr = 0.1             # percent reduction in sales price\n",
    "spillover = 0.1        # percent of sales that don't go through\n",
    "off_market = 0.1       # percent of sales off market\n",
    "sfh = 1                # include single family homes in OPA? 1 = yes, 0 = no\n",
    "dti = 0.36             # debt-to-income ratio that's required to get the mortgage approved\n",
    "ami = 149_600          # average median income\n",
    "\n",
    "funding = 10_000_000   # pot of funding (dollars)"
   ]
  },
  {
   "cell_type": "code",
   "execution_count": null,
   "id": "7561d225",
   "metadata": {
    "executionInfo": {
     "elapsed": 4,
     "status": "ok",
     "timestamp": 1653542270403,
     "user": {
      "displayName": "Parth Sarin",
      "userId": "17897782598758580544"
     },
     "user_tz": 420
    },
    "id": "7561d225"
   },
   "outputs": [],
   "source": [
    "n = len(df)\n",
    "num_sims = len(set(df.simulation))\n",
    "num_per_sim = n / num_sims"
   ]
  },
  {
   "cell_type": "code",
   "execution_count": null,
   "id": "2a2861c7",
   "metadata": {
    "executionInfo": {
     "elapsed": 3,
     "status": "ok",
     "timestamp": 1653542270403,
     "user": {
      "displayName": "Parth Sarin",
      "userId": "17897782598758580544"
     },
     "user_tz": 420
    },
    "id": "2a2861c7"
   },
   "outputs": [],
   "source": [
    "df.columns = [c.lower().replace(' ', '_') for c in df.columns]"
   ]
  },
  {
   "cell_type": "markdown",
   "id": "8662e072",
   "metadata": {
    "id": "8662e072"
   },
   "source": [
    "# Computations"
   ]
  },
  {
   "cell_type": "code",
   "execution_count": null,
   "id": "73b7749a",
   "metadata": {
    "executionInfo": {
     "elapsed": 3,
     "status": "ok",
     "timestamp": 1653542272459,
     "user": {
      "displayName": "Parth Sarin",
      "userId": "17897782598758580544"
     },
     "user_tz": 420
    },
    "id": "73b7749a"
   },
   "outputs": [],
   "source": [
    "df['p_ami'] = df.income / ami * 100\n",
    "df['mortgage'] = (1 - downpayment) * ((1 + interest) ** mortgage_duration) * (1 - rofr) * df.price / mortgage_duration\n",
    "df['viable'] = (df.mortgage / df.income <= dti)\n",
    "\n",
    "df['eligible_spillover'] = 1 - (np.random.random(n) < spillover) # 0 = not eligible, 1 = still eligible\n",
    "df['eligible_market'] = 1 - (np.random.random(n) < off_market)   # 0 = not eligible, 1 = still eligible\n",
    "df['eligible_sfh'] = np.ones(n) # TODO: update this\n",
    "\n",
    "df['viable_eligible'] = df.eligible_spillover * df.eligible_market * df.eligible_sfh * df.viable"
   ]
  },
  {
   "cell_type": "code",
   "execution_count": 2,
   "id": "4cf25b7e",
   "metadata": {},
   "outputs": [],
   "source": [
    "def get_category_coarse(x):\n",
    "    idx = bisect([80, 160], x)\n",
    "    cats = ['Low Income', 'Middle Income', 'Upper Income']\n",
    "    return cats[idx]\n",
    "\n",
    "def get_category(x):\n",
    "    idx = bisect([30, 50, 80, 160], x)\n",
    "    cats = ['Extremely Low Income', 'Very Low Income', 'Low Income', 'Middle Income', 'Upper Income']\n",
    "    return cats[idx]"
   ]
  },
  {
   "cell_type": "code",
   "execution_count": null,
   "id": "b5bd3cea",
   "metadata": {},
   "outputs": [],
   "source": [
    "df['income_category'] = df.p_ami.apply(get_category)\n",
    "df['income_category_coarse'] = df.p_ami.apply(get_category_coarse)"
   ]
  },
  {
   "cell_type": "markdown",
   "id": "43047543",
   "metadata": {
    "id": "43047543"
   },
   "source": [
    "# Groups"
   ]
  },
  {
   "cell_type": "code",
   "execution_count": null,
   "id": "be0fd88e",
   "metadata": {
    "colab": {
     "base_uri": "https://localhost:8080/"
    },
    "executionInfo": {
     "elapsed": 288,
     "status": "ok",
     "timestamp": 1653542274260,
     "user": {
      "displayName": "Parth Sarin",
      "userId": "17897782598758580544"
     },
     "user_tz": 420
    },
    "id": "be0fd88e",
    "outputId": "09da7705-ef98-43f7-fdd3-02c4b1fcba98"
   },
   "outputs": [],
   "source": [
    "ve = df.groupby('simulation').mean().viable_eligible\n",
    "m, s = ve.mean(), ve.std()\n",
    "\n",
    "print(f'viable & eligible: {m:.2%}')\n",
    "print(f'95% confidence interval (viable & eligible): {m - 2*s:.2%}, {m + 2*s:.2%}')"
   ]
  },
  {
   "cell_type": "markdown",
   "id": "015f97bd",
   "metadata": {
    "id": "015f97bd"
   },
   "source": [
    "# Funding optimization"
   ]
  },
  {
   "cell_type": "markdown",
   "id": "4a2d9354",
   "metadata": {
    "id": "4a2d9354"
   },
   "source": [
    "First we filter to the homes that weren't eligible for whom the barrier to purchase is income..."
   ]
  },
  {
   "cell_type": "code",
   "execution_count": null,
   "id": "32581069",
   "metadata": {
    "executionInfo": {
     "elapsed": 275,
     "status": "ok",
     "timestamp": 1653542277976,
     "user": {
      "displayName": "Parth Sarin",
      "userId": "17897782598758580544"
     },
     "user_tz": 420
    },
    "id": "32581069"
   },
   "outputs": [],
   "source": [
    "potential = df[df.eligible_spillover * df.eligible_market * df.eligible_sfh == 1]\n",
    "potential = potential[potential.viable_eligible == 0]"
   ]
  },
  {
   "cell_type": "code",
   "execution_count": null,
   "id": "b62bd9ed",
   "metadata": {
    "colab": {
     "base_uri": "https://localhost:8080/"
    },
    "executionInfo": {
     "elapsed": 5,
     "status": "ok",
     "timestamp": 1653542278356,
     "user": {
      "displayName": "Parth Sarin",
      "userId": "17897782598758580544"
     },
     "user_tz": 420
    },
    "id": "b62bd9ed",
    "outputId": "4ae2177c-9b98-4a31-fb10-6ddde8b73042"
   },
   "outputs": [],
   "source": [
    "avg_income_unaffordable = potential.groupby('simulation').mean().income\n",
    "m, s = avg_income_unaffordable.mean(), avg_income_unaffordable.std()\n",
    "\n",
    "print(f\"avg income for people who couldn't buy: {m}\")\n",
    "print(f\"95% confidence interval (avg income for people who couldn't buy): {m - 2*s:.0f}, {m + 2*s:.0f}\")"
   ]
  },
  {
   "cell_type": "markdown",
   "id": "68c7393e",
   "metadata": {
    "id": "68c7393e"
   },
   "source": [
    "...next we try to allocate funding to these folks"
   ]
  },
  {
   "cell_type": "markdown",
   "id": "7ca1d418",
   "metadata": {
    "id": "7ca1d418"
   },
   "source": [
    "## Surgical optimization\n",
    "\n",
    "We calculate the gap in income needed to get to the viable threshold and fill that."
   ]
  },
  {
   "cell_type": "code",
   "execution_count": null,
   "id": "9a075afc",
   "metadata": {
    "executionInfo": {
     "elapsed": 2,
     "status": "ok",
     "timestamp": 1653542281353,
     "user": {
      "displayName": "Parth Sarin",
      "userId": "17897782598758580544"
     },
     "user_tz": 420
    },
    "id": "9a075afc"
   },
   "outputs": [],
   "source": [
    "sim_ids = set(potential.simulation)"
   ]
  },
  {
   "cell_type": "code",
   "execution_count": null,
   "id": "b63868f0",
   "metadata": {
    "executionInfo": {
     "elapsed": 4,
     "status": "ok",
     "timestamp": 1653542281894,
     "user": {
      "displayName": "Parth Sarin",
      "userId": "17897782598758580544"
     },
     "user_tz": 420
    },
    "id": "b63868f0"
   },
   "outputs": [],
   "source": [
    "def count_sum_to_thresh(df, thresh):\n",
    "    a = df.gap\n",
    "    for i in range(len(a)):\n",
    "        if sum(a[:i]) > thresh:\n",
    "            break\n",
    "    num_helped = i - 1\n",
    "    \n",
    "    return num_helped, df.iloc[:num_helped]"
   ]
  },
  {
   "cell_type": "code",
   "execution_count": null,
   "id": "472bd779",
   "metadata": {
    "executionInfo": {
     "elapsed": 3,
     "status": "ok",
     "timestamp": 1653542283651,
     "user": {
      "displayName": "Parth Sarin",
      "userId": "17897782598758580544"
     },
     "user_tz": 420
    },
    "id": "472bd779"
   },
   "outputs": [],
   "source": [
    "@cache\n",
    "def surgical(funding):\n",
    "    num_helped = []\n",
    "    people_helped = []\n",
    "\n",
    "    for sid in sim_ids:\n",
    "        x = potential[potential.simulation == sid]\n",
    "        x = x.sort_values('gap')\n",
    "        nh, ph = count_sum_to_thresh(x, funding)\n",
    "\n",
    "        num_helped.append(nh)\n",
    "        people_helped.append(ph)\n",
    "\n",
    "    num_helped = np.array(num_helped)\n",
    "    people_helped = pd.concat(people_helped)\n",
    "    \n",
    "    return num_helped, people_helped"
   ]
  },
  {
   "cell_type": "markdown",
   "id": "fb432d1c",
   "metadata": {},
   "source": [
    "## Surgical equitable optimization\n",
    "AMI ≤ 80%"
   ]
  },
  {
   "cell_type": "code",
   "execution_count": null,
   "id": "fd8dc208",
   "metadata": {},
   "outputs": [],
   "source": [
    "@cache\n",
    "def surgical_equitable(funding):\n",
    "    num_helped = []\n",
    "    people_helped = []\n",
    "\n",
    "    for sid in sim_ids:\n",
    "        x = potential[potential.simulation == sid]\n",
    "        x = x[x.p_ami < 80]\n",
    "        x = x.sort_values('gap')\n",
    "        \n",
    "        nh, ph = count_sum_to_thresh(x, funding)\n",
    "\n",
    "        num_helped.append(nh)\n",
    "        people_helped.append(ph)\n",
    "\n",
    "    num_helped = np.array(num_helped)\n",
    "    people_helped = pd.concat(people_helped)\n",
    "    \n",
    "    return num_helped, people_helped"
   ]
  },
  {
   "cell_type": "markdown",
   "id": "1f5e67ab",
   "metadata": {},
   "source": [
    "## Thanos model"
   ]
  },
  {
   "cell_type": "code",
   "execution_count": null,
   "id": "22cf95de",
   "metadata": {},
   "outputs": [],
   "source": [
    "def count_sum_to_thresh_thanos(a, thresh, full_df):\n",
    "    for i in range(len(a)):\n",
    "        if sum(a[:i]) > thresh:\n",
    "            break\n",
    "    num_helped = i - 1\n",
    "    \n",
    "    return num_helped, full_df.iloc[:num_helped]"
   ]
  },
  {
   "cell_type": "code",
   "execution_count": null,
   "id": "c9b3e339",
   "metadata": {},
   "outputs": [],
   "source": [
    "@cache\n",
    "def thanos_equitable(funding):\n",
    "    num_helped = []\n",
    "    people_helped = []\n",
    "\n",
    "    for sid in sim_ids:\n",
    "        x = potential[potential.simulation == sid]\n",
    "        x = x[x.p_ami < 80]\n",
    "        x = x.sample(frac = 0.5) # thanos\n",
    "        x = x.sort_values('gap')\n",
    "        a = x.gap\n",
    "        a = a / 0.63 # https://web.archive.org/web/20200321115234id_/https://www.innovations.harvard.edu/sites/default/files/hpd_0202_stegman.pdf\n",
    "        \n",
    "        nh, ph = count_sum_to_thresh_thanos(a, funding, x)\n",
    "\n",
    "        num_helped.append(nh)\n",
    "        people_helped.append(ph)\n",
    "\n",
    "    num_helped = np.array(num_helped)\n",
    "    people_helped = pd.concat(people_helped)\n",
    "    \n",
    "    return num_helped, people_helped"
   ]
  },
  {
   "cell_type": "markdown",
   "id": "bd12c7a8",
   "metadata": {},
   "source": [
    "## Thanos optimization"
   ]
  },
  {
   "cell_type": "code",
   "execution_count": null,
   "id": "e7e12f09",
   "metadata": {},
   "outputs": [],
   "source": [
    "def thanos(funding):\n",
    "    num_helped = []\n",
    "    people_helped = []\n",
    "\n",
    "    for sid in sim_ids:\n",
    "        x = potential[potential.simulation == sid]\n",
    "        x = x.sample(frac = 0.5) # thanos\n",
    "        x = x.sort_values('gap')\n",
    "        a = x.gap\n",
    "        a = a / 0.63 # https://web.archive.org/web/20200321115234id_/https://www.innovations.harvard.edu/sites/default/files/hpd_0202_stegman.pdf\n",
    "        \n",
    "        nh, ph = count_sum_to_thresh_thanos(a, funding, x)\n",
    "\n",
    "        num_helped.append(nh)\n",
    "        people_helped.append(ph)\n",
    "\n",
    "    num_helped = np.array(num_helped)\n",
    "    people_helped = pd.concat(people_helped)\n",
    "    \n",
    "    return num_helped, people_helped"
   ]
  },
  {
   "cell_type": "markdown",
   "id": "a626bfe3",
   "metadata": {},
   "source": [
    "# Plotting"
   ]
  },
  {
   "cell_type": "code",
   "execution_count": null,
   "id": "bd172575",
   "metadata": {},
   "outputs": [],
   "source": [
    "potential = df[df.eligible_spillover * df.eligible_market * df.eligible_sfh == 1]\n",
    "potential = potential[potential.viable_eligible == 0]\n",
    "potential['gap'] = potential.mortgage / dti - potential.income"
   ]
  },
  {
   "cell_type": "code",
   "execution_count": null,
   "id": "9362e3b6",
   "metadata": {},
   "outputs": [],
   "source": [
    "funding_options = [0, 2_000_000, 5_000_000, 10_000_000, 20_000_000]"
   ]
  },
  {
   "cell_type": "code",
   "execution_count": null,
   "id": "b3980e2e",
   "metadata": {},
   "outputs": [],
   "source": [
    "d = {\n",
    "    'Surgical': [surgical(f)[0].mean() for f in funding_options],\n",
    "    'Surgical (Equitable Focus)': [surgical_equitable(f)[0].mean() for f in funding_options],\n",
    "    'Human': [thanos(f)[0].mean() for f in funding_options],\n",
    "    'Human (Equitable Focus)': [thanos_equitable(f)[0].mean() for f in funding_options]\n",
    "}"
   ]
  },
  {
   "cell_type": "code",
   "execution_count": null,
   "id": "79ddab17",
   "metadata": {},
   "outputs": [],
   "source": [
    "d['funding'] = funding_options"
   ]
  },
  {
   "cell_type": "code",
   "execution_count": null,
   "id": "ecf8b5aa",
   "metadata": {},
   "outputs": [],
   "source": [
    "plt.rcParams['figure.figsize'] = [10, 5]\n",
    "\n",
    "sns.lineplot(data=pd.DataFrame(d).set_index('funding'), markers=True)\n",
    "\n",
    "plt.xlabel('funding')\n",
    "plt.ylabel('number of renters who need funding that can now afford')\n",
    "plt.gcf().patch.set_facecolor('white')\n",
    "plt.xticks(funding_options)\n",
    "\n",
    "plt.savefig('g.png', dpi=300, bbox_inches='tight')"
   ]
  },
  {
   "cell_type": "code",
   "execution_count": null,
   "id": "bc249295",
   "metadata": {},
   "outputs": [],
   "source": [
    "def perc_low_income(people_helped):\n",
    "    perc_helped = people_helped.income_category.value_counts() / potential.income_category.value_counts() * 100\n",
    "    return perc_helped['Low Income']"
   ]
  },
  {
   "cell_type": "code",
   "execution_count": null,
   "id": "b553f718",
   "metadata": {},
   "outputs": [],
   "source": [
    "d = {\n",
    "    'funding': funding_options,\n",
    "    'Surgical': [perc_low_income(surgical(f)[1]) for f in funding_options],\n",
    "    'Surgical (Equitable Focus)': [perc_low_income(surgical_equitable(f)[1]) for f in funding_options],\n",
    "    'Human': [perc_low_income(thanos(f)[1]) for f in funding_options],\n",
    "    'Human (Equitable Focus)': [perc_low_income(thanos_equitable(f)[1]) for f in funding_options]\n",
    "}"
   ]
  },
  {
   "cell_type": "code",
   "execution_count": null,
   "id": "63b7e605",
   "metadata": {},
   "outputs": [],
   "source": [
    "for k in ('Surgical', 'Surgical (Equitable Focus)', 'Human', 'Human (Equitable Focus)'):\n",
    "    d[k][0] = 0\n",
    "\n",
    "plt.rcParams['figure.figsize'] = [10, 5]\n",
    "\n",
    "sns.lineplot(data=pd.DataFrame(d).set_index('funding'), markers=True)\n",
    "\n",
    "plt.xlabel('funding')\n",
    "plt.ylabel('% of low income renters who need funding & can afford')\n",
    "plt.gcf().patch.set_facecolor('white')\n",
    "plt.xticks(funding_options)\n",
    "\n",
    "plt.savefig('g.png', dpi=300, bbox_inches='tight')"
   ]
  },
  {
   "cell_type": "markdown",
   "id": "dbeacb43",
   "metadata": {},
   "source": [
    "# Matrix"
   ]
  },
  {
   "cell_type": "code",
   "execution_count": null,
   "id": "8a084200",
   "metadata": {},
   "outputs": [],
   "source": [
    "# DO NOTHING\n",
    "\n",
    "downpayment = 0.20     # percent of price\n",
    "interest = 0.055       # percent of price\n",
    "mortgage_duration = 30 # years\n",
    "rofr = 0               # percent reduction in sales price\n",
    "spillover = 0          # percent of sales that don't go through\n",
    "off_market = 0.5       # percent of sales off markett\n",
    "dti = 0.36             # debt-to-income ratio that's required to get the mortgage approved\n",
    "ami = 149_600          # average median income\n",
    "funding = 2_000_000    # pot of funding (dollars)\n",
    "\n",
    "df = pd.read_csv('final_results_1000.csv')\n",
    "n = len(df)\n",
    "sim_ids = set(df.simulation)\n",
    "num_sims = len(sim_ids)\n",
    "num_per_sim = n / num_sims\n",
    "\n",
    "df['p_ami'] = df.income / ami * 100\n",
    "df['mortgage'] = (1 - downpayment) * ((1 + interest) ** mortgage_duration) * (1 - rofr) * df.price / mortgage_duration\n",
    "df['viable'] = (df.mortgage / df.income <= dti)\n",
    "\n",
    "df['eligible_spillover'] = 1 - (np.random.random(n) < spillover) # 0 = not eligible, 1 = still eligible\n",
    "df['eligible_market'] = 1 - (np.random.random(n) < off_market)   # 0 = not eligible, 1 = still eligible\n",
    "df['eligible_sfh'] = np.ones(n) # TODO: update this\n",
    "\n",
    "df['viable_eligible'] = df.eligible_spillover * df.eligible_market * df.eligible_sfh * df.viable\n",
    "df['income_category'] = df.p_ami.apply(get_category_coarse)\n",
    "\n",
    "potential = df[df.eligible_spillover * df.eligible_market * df.eligible_sfh == 1]\n",
    "potential = potential[potential.viable_eligible == 0]\n",
    "potential['gap'] = potential.mortgage / dti - potential.income\n",
    "\n",
    "nh, ph = thanos(funding)\n",
    "nhe, phe = thanos_equitable(funding)\n",
    "\n",
    "no_funding = df.groupby('simulation').sum().viable_eligible\n",
    "\n",
    "p_ev = (no_funding + nh).mean() / num_per_sim\n"
   ]
  },
  {
   "cell_type": "code",
   "execution_count": null,
   "id": "b89893f3",
   "metadata": {},
   "outputs": [],
   "source": [
    "potential.income_category.value_counts()"
   ]
  },
  {
   "cell_type": "code",
   "execution_count": null,
   "id": "ec7114ea",
   "metadata": {},
   "outputs": [],
   "source": [
    "df.income_category.value_counts()"
   ]
  },
  {
   "cell_type": "code",
   "execution_count": null,
   "id": "52df3fa6",
   "metadata": {},
   "outputs": [],
   "source": [
    "perc_low_income(ph)"
   ]
  },
  {
   "cell_type": "code",
   "execution_count": null,
   "id": "abc2559a",
   "metadata": {},
   "outputs": [],
   "source": []
  },
  {
   "cell_type": "code",
   "execution_count": null,
   "id": "0248c86e",
   "metadata": {},
   "outputs": [],
   "source": []
  },
  {
   "cell_type": "code",
   "execution_count": null,
   "id": "a3245ae1",
   "metadata": {},
   "outputs": [],
   "source": []
  },
  {
   "cell_type": "markdown",
   "id": "cd6824b7",
   "metadata": {},
   "source": [
    "# 🪦"
   ]
  },
  {
   "cell_type": "code",
   "execution_count": null,
   "id": "6f3a582d",
   "metadata": {},
   "outputs": [],
   "source": [
    "potential = df[df.eligible_spillover * df.eligible_market * df.eligible_sfh == 1]\n",
    "potential = potential[potential.viable_eligible == 0]\n",
    "potential['gap'] = potential.mortgage / dti - potential.income"
   ]
  },
  {
   "cell_type": "code",
   "execution_count": null,
   "id": "7883a2a5",
   "metadata": {},
   "outputs": [],
   "source": [
    "num_helped, people_helped = thanos(funding)"
   ]
  },
  {
   "cell_type": "code",
   "execution_count": null,
   "id": "73e8917b",
   "metadata": {},
   "outputs": [],
   "source": [
    "m, s = num_helped.mean(), num_helped.std()\n",
    "\n",
    "print(f\"num helped with ${funding}: {m}\")\n",
    "print(f\"% helped with ${funding}: {m / (n / len(sim_ids)):.2%}\")\n",
    "print(f\"95% confidence interval (num helped with ${funding}): {m - 2*s:.0f}, {m + 2*s:.0f}\")"
   ]
  },
  {
   "cell_type": "code",
   "execution_count": null,
   "id": "e9ce58ce",
   "metadata": {},
   "outputs": [],
   "source": [
    "m, s = people_helped.income.mean(), people_helped.income.std()\n",
    "\n",
    "print(f\"avg income of people helped with funding: {m:.0f}\")\n",
    "print(f\"95% confidence interval (avg income of people helped with funding): {m - 2*s:.0f}, {m + 2*s:.0f}\")"
   ]
  },
  {
   "cell_type": "code",
   "execution_count": null,
   "id": "f72f81bb",
   "metadata": {},
   "outputs": [],
   "source": [
    "(people_helped.income_category.value_counts() / potential.income_category.value_counts() * 100).sort_values()"
   ]
  },
  {
   "cell_type": "code",
   "execution_count": null,
   "id": "b4d9dc9d",
   "metadata": {},
   "outputs": [],
   "source": []
  }
 ],
 "metadata": {
  "colab": {
   "name": "simulation_results.ipynb",
   "provenance": []
  },
  "kernelspec": {
   "display_name": "Python 3 (ipykernel)",
   "language": "python",
   "name": "python3"
  },
  "language_info": {
   "codemirror_mode": {
    "name": "ipython",
    "version": 3
   },
   "file_extension": ".py",
   "mimetype": "text/x-python",
   "name": "python",
   "nbconvert_exporter": "python",
   "pygments_lexer": "ipython3",
   "version": "3.10.0"
  }
 },
 "nbformat": 4,
 "nbformat_minor": 5
}
